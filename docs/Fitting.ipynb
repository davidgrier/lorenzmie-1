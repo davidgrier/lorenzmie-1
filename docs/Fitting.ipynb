{
 "cells": [
  {
   "cell_type": "markdown",
   "metadata": {},
   "source": [
    "# Fitting a Hologram\n",
    "\n",
    "This notebook shows how to load a pre-recorded hologram of a colloidal sphere\n",
    "into a Feature object and analyze it with Lorenz-Mie theory. The analysis yields\n",
    "the radius of the sphere, the refractive index of the sphere, and the sphere's\n",
    "three-dimensional location relative to the center of the imaging plane."
   ]
  },
  {
   "cell_type": "code",
   "execution_count": 1,
   "metadata": {},
   "outputs": [
    {
     "ename": "ModuleNotFoundError",
     "evalue": "No module named 'fitting'",
     "output_type": "error",
     "traceback": [
      "\u001b[0;31m---------------------------------------------------------------------------\u001b[0m",
      "\u001b[0;31mModuleNotFoundError\u001b[0m                       Traceback (most recent call last)",
      "\u001b[0;32m<ipython-input-1-98c36e2599dc>\u001b[0m in \u001b[0;36m<module>\u001b[0;34m\u001b[0m\n\u001b[1;32m      4\u001b[0m \u001b[0;32mimport\u001b[0m \u001b[0mcv2\u001b[0m\u001b[0;34m\u001b[0m\u001b[0;34m\u001b[0m\u001b[0m\n\u001b[1;32m      5\u001b[0m \u001b[0;34m\u001b[0m\u001b[0m\n\u001b[0;32m----> 6\u001b[0;31m \u001b[0;32mfrom\u001b[0m \u001b[0mpylorenzmie\u001b[0m\u001b[0;34m.\u001b[0m\u001b[0manalysis\u001b[0m \u001b[0;32mimport\u001b[0m \u001b[0mFeature\u001b[0m\u001b[0;34m\u001b[0m\u001b[0;34m\u001b[0m\u001b[0m\n\u001b[0m\u001b[1;32m      7\u001b[0m \u001b[0;32mfrom\u001b[0m \u001b[0mpylorenzmie\u001b[0m\u001b[0;34m.\u001b[0m\u001b[0mtheory\u001b[0m \u001b[0;32mimport\u001b[0m \u001b[0mLMHologram\u001b[0m\u001b[0;34m,\u001b[0m \u001b[0mcoordinates\u001b[0m\u001b[0;34m\u001b[0m\u001b[0;34m\u001b[0m\u001b[0m\n",
      "\u001b[0;32m~/python/pylorenzmie/analysis/__init__.py\u001b[0m in \u001b[0;36m<module>\u001b[0;34m\u001b[0m\n\u001b[0;32m----> 1\u001b[0;31m \u001b[0;32mfrom\u001b[0m \u001b[0;34m.\u001b[0m\u001b[0mFeature\u001b[0m \u001b[0;32mimport\u001b[0m \u001b[0mFeature\u001b[0m\u001b[0;34m\u001b[0m\u001b[0;34m\u001b[0m\u001b[0m\n\u001b[0m\u001b[1;32m      2\u001b[0m \u001b[0;32mfrom\u001b[0m \u001b[0;34m.\u001b[0m\u001b[0mFrame\u001b[0m \u001b[0;32mimport\u001b[0m \u001b[0mFrame\u001b[0m\u001b[0;34m\u001b[0m\u001b[0;34m\u001b[0m\u001b[0m\n\u001b[1;32m      3\u001b[0m \u001b[0;32mfrom\u001b[0m \u001b[0;34m.\u001b[0m\u001b[0mTrajectory\u001b[0m \u001b[0;32mimport\u001b[0m \u001b[0mTrajectory\u001b[0m\u001b[0;34m\u001b[0m\u001b[0;34m\u001b[0m\u001b[0m\n\u001b[1;32m      4\u001b[0m \u001b[0;32mfrom\u001b[0m \u001b[0;34m.\u001b[0m\u001b[0mVideo\u001b[0m \u001b[0;32mimport\u001b[0m \u001b[0mVideo\u001b[0m\u001b[0;34m\u001b[0m\u001b[0;34m\u001b[0m\u001b[0m\n\u001b[1;32m      5\u001b[0m \u001b[0;34m\u001b[0m\u001b[0m\n",
      "\u001b[0;32m~/python/pylorenzmie/analysis/Feature.py\u001b[0m in \u001b[0;36m<module>\u001b[0;34m\u001b[0m\n\u001b[1;32m      5\u001b[0m \u001b[0;32mimport\u001b[0m \u001b[0mos\u001b[0m\u001b[0;34m\u001b[0m\u001b[0;34m\u001b[0m\u001b[0m\n\u001b[1;32m      6\u001b[0m \u001b[0;32mimport\u001b[0m \u001b[0mnumpy\u001b[0m \u001b[0;32mas\u001b[0m \u001b[0mnp\u001b[0m\u001b[0;34m\u001b[0m\u001b[0;34m\u001b[0m\u001b[0m\n\u001b[0;32m----> 7\u001b[0;31m \u001b[0;32mfrom\u001b[0m \u001b[0mfitting\u001b[0m \u001b[0;32mimport\u001b[0m \u001b[0mOptimizer\u001b[0m\u001b[0;34m\u001b[0m\u001b[0;34m\u001b[0m\u001b[0m\n\u001b[0m\u001b[1;32m      8\u001b[0m \u001b[0;32mfrom\u001b[0m \u001b[0mtheory\u001b[0m \u001b[0;32mimport\u001b[0m \u001b[0mLMHologram\u001b[0m\u001b[0;34m,\u001b[0m \u001b[0mcoordinates\u001b[0m\u001b[0;34m\u001b[0m\u001b[0;34m\u001b[0m\u001b[0m\n\u001b[1;32m      9\u001b[0m \u001b[0;34m\u001b[0m\u001b[0m\n",
      "\u001b[0;31mModuleNotFoundError\u001b[0m: No module named 'fitting'"
     ]
    }
   ],
   "source": [
    "%matplotlib inline\n",
    "import matplotlib.pyplot as plt\n",
    "import numpy as np\n",
    "import cv2\n",
    "\n",
    "from pylorenzmie.analysis import Feature\n",
    "from pylorenzmie.theory import LMHologram, coordinates"
   ]
  },
  {
   "cell_type": "markdown",
   "metadata": {},
   "source": [
    "First, we instantiate a Feature() object using the standard Lorenz-Mie model for hologram formation. The model includes a description of the holographic microscope that records the images we wish to analyze. In this example, we specify that the instrument illuminates the sample with blue light at a vacuum wavelength of $\\lambda$ = 0.447 μm and has a system magnification of 0.048 μm/pixel. For particles dispersed in water, the refractive index of the medium is $n_m$ = 1.340 at the imaging wavelength. These calibration constants may differ for different hardware implementations.\n",
    "The commercial xSight instrument, for example uses a system magnification of 0.120 μm/pixel."
   ]
  },
  {
   "cell_type": "code",
   "execution_count": null,
   "metadata": {},
   "outputs": [],
   "source": [
    "feature = Feature(model=LMHologram(double_precision=False))\n",
    "\n",
    "# Instrument configuration\n",
    "ins = feature.model.instrument\n",
    "ins.wavelength = 0.447     # [um]\n",
    "ins.magnification = 0.048  # [um/pixel]\n",
    "ins.n_m = 1.34"
   ]
  },
  {
   "cell_type": "markdown",
   "metadata": {},
   "source": [
    "Next, we load the (normalized) hologram we wish to fit. In the present example, we use OpenCV to load a pre-recorded hologram that was saved as a PNG image. We convert the image to grayscale and normalize it by the mean value. This hologram was cropped from a larger image. Since we are not interested in locating the particle within the original image, we provide the model with a standard coordinate system using the coordinates() helper function. We finally can provide the normalized image data to the Feature() object for analysis."
   ]
  },
  {
   "cell_type": "code",
   "execution_count": null,
   "metadata": {},
   "outputs": [],
   "source": [
    "# Read example image\n",
    "img = cv2.imread('tutorials/crop.png')\n",
    "img = cv2.cvtColor(img, cv2.COLOR_BGR2GRAY).astype(np.float)\n",
    "\n",
    "# The normalized image constitutes the data for the Feature()\n",
    "feature.data = img / np.mean(img)\n",
    "\n",
    "# Specify the coordinates for the pixels in the image data\n",
    "feature.model.coordinates = coordinates(img.shape)\n",
    "\n",
    "fig, ax = plt.subplots(figsize=(5,5))\n",
    "ax.imshow(img, cmap='gray')\n",
    "ax.axis('off');"
   ]
  },
  {
   "cell_type": "markdown",
   "metadata": {},
   "source": [
    "The nonlinear least-squares fit requires initial estimates for the sphere's radius, $a_p$,\n",
    "refractive index, $n_p$, and three-dimensional position $\\mathbf{r}_p$.\n",
    "\n",
    "In this example, we know the true values for this hologram, so we add random offsets to give the fitter a challenge."
   ]
  },
  {
   "cell_type": "code",
   "execution_count": null,
   "metadata": {},
   "outputs": [],
   "source": [
    "# Initial estimates for particle properties\n",
    "p = feature.model.particle\n",
    "p.r_p = [img.shape[0]//2, img.shape[1]//2, 330.]\n",
    "p.a_p = 1.1\n",
    "p.n_p = 1.4\n",
    "# add errors to parameters\n",
    "p.r_p += np.random.normal(0., 1, 3)\n",
    "p.z_p += np.random.normal(0., 30, 1)\n",
    "p.a_p += np.random.normal(0., 0.1, 1)\n",
    "p.n_p += np.random.normal(0., 0.04, 1)\n",
    "print(p)\n",
    "\n",
    "fig, ax = plt.subplots(figsize=(5,5))\n",
    "ax.imshow(feature.model.hologram().reshape(img.shape), cmap='gray')\n",
    "ax.axis('off')\n",
    "ax.set_title('Initial Estimate');"
   ]
  },
  {
   "cell_type": "markdown",
   "metadata": {},
   "source": [
    "Before fitting, we adjust the settings for the optimizer. Fitting to every pixel in this 390$\\times$390 pixel image is computationally expensive and is not necessary to obtain precise values for the fitting parameters. The optimizer uses a mask to specifies which pixels to fit. In this case, we tell the optimizer to only fit to 10% of the pixels in the image. The distribution \"fast\" simply chooses these pixels at random."
   ]
  },
  {
   "cell_type": "code",
   "execution_count": null,
   "metadata": {},
   "outputs": [],
   "source": [
    "feature.optimizer.mask.percentpix = 0.1\n",
    "feature.optimizer.mask.distribution = 'donut'"
   ]
  },
  {
   "cell_type": "markdown",
   "metadata": {},
   "source": [
    "Finally, we can fit the image to predictions of the Lorenz-Mie theory of light scattering to optimize the particle's radius, refractive index and three-dimensional position. The method name \"lm\" refers to the Levenberg-Marquardt gradient descent algorithm, and is essentially a pixel-by-pixel least-squares fit. \n",
    "\n",
    "When we obtain our result, we can print it to get the fitted parameters as well as some information about the fitting process. \"redchi\" or Reduced $\\chi^2$ is a measure of how closely the fitted hologram matches with the original image. This can also be examined visually by looking at the residuals (rightmost plot).\n",
    "\n",
    "\"nfev\" stands for \"number of function evaluations\" and tells how many iterations of the calculation were needed to obtain the answer."
   ]
  },
  {
   "cell_type": "code",
   "execution_count": null,
   "metadata": {},
   "outputs": [],
   "source": [
    "result = feature.optimize(method='lm', robust='True', verbose=False)\n",
    "print(result)"
   ]
  },
  {
   "cell_type": "code",
   "execution_count": null,
   "metadata": {},
   "outputs": [],
   "source": [
    "fig, axes = plt.subplots(ncols=3, figsize=(10, 4), constrained_layout=True)\n",
    "\n",
    "vmin = np.min(feature.data) * 0.9\n",
    "vmax = np.max(feature.data) * 1.1\n",
    "style = dict(vmin=vmin, vmax=vmax, cmap='gray')\n",
    "\n",
    "images = [feature.data,\n",
    "          feature.model.hologram().reshape(img.shape),\n",
    "          feature.residuals()+1]\n",
    "labels = ['Data', 'Fit', 'Residuals']\n",
    "\n",
    "for ax, image, label in zip(axes, images, labels):\n",
    "    ax.imshow(image, **style)\n",
    "    ax.axis('off')\n",
    "    ax.set_title(label)"
   ]
  },
  {
   "cell_type": "code",
   "execution_count": null,
   "metadata": {},
   "outputs": [],
   "source": [
    "print(feature.model.method, feature.model.double_precision)"
   ]
  },
  {
   "cell_type": "code",
   "execution_count": null,
   "metadata": {},
   "outputs": [],
   "source": []
  }
 ],
 "metadata": {
  "kernelspec": {
   "display_name": "Python 3",
   "language": "python",
   "name": "python3"
  },
  "language_info": {
   "codemirror_mode": {
    "name": "ipython",
    "version": 3
   },
   "file_extension": ".py",
   "mimetype": "text/x-python",
   "name": "python",
   "nbconvert_exporter": "python",
   "pygments_lexer": "ipython3",
   "version": "3.7.9"
  }
 },
 "nbformat": 4,
 "nbformat_minor": 4
}
